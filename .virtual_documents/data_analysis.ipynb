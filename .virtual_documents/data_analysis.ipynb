





ticker = 'TSLA'





import pandas as pd
fn = f'./data/{ticker.lower()}_eod_data.csv'
df = pd.read_csv(fn)
df.head(20)





shift_cols = ['label', 'score']

max_leg = 5

for i in range(max_leg):
    lag = i + 1
    c_names = [f'{c}_{lag}' for c in shift_cols]
    # print(c_names)
    for j in range(len(shift_cols)):
         df[c_names[j]] = df[shift_cols[j]].shift(lag)
        
df.head(max_leg + 1)





correlation = df[['score_2', 'close']].corr().iloc[0,1]

print(f"Lagged Correlation: {correlation}")


import pandas as pd

# Create DataFrame
data = {
    'Date': ['2025-03-01', '2025-03-02', '2025-03-03', '2025-03-04', '2025-03-05'],
    'Label': ['pos', 'neu', 'neg', 'neg', 'pos'],
    'Sentiment Score': [0.6, 0.4, -0.2, -0.5, 0.3],
    'Stock Price': [150, 148, 145, 142, 146],
}
df = pd.DataFrame(data)
print(df)

# Compute lagged sentiment scores (e.g., lag of 1 day)
df['Lagged Sentiment Score'] = df['Sentiment Score'].shift(1)
df['Lagged Lable'] = df['Label'].shift(1)

print(df)






# Compute correlation
correlation = df[['Lagged Sentiment Score', 'Stock Price']].corr().iloc[0,1]

print(f"Lagged Correlation: {correlation}")

