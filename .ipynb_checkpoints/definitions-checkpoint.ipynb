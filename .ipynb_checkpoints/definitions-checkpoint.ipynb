{
 "cells": [
  {
   "cell_type": "code",
   "execution_count": 3,
   "id": "2eda7e53-90fc-462b-8e01-191eb92d432d",
   "metadata": {},
   "outputs": [
    {
     "name": "stdout",
     "output_type": "stream",
     "text": [
      "ticker      TSLA\n",
      "--------------------------------------------------------------------------------\n",
      "start_date  2024-01-01\n",
      "end_date    2025-03-12\n",
      "--------------------------------------------------------------------------------\n",
      "eod_price_file_csv              ./data/tsla_eod_prices.csv\n",
      "finacial_news_file_csv          ./data/tsla_financial_news.csv\n",
      "combined_data_file_csv          ./data/tsla_combined_data.csv\n",
      "combined_enriched_data_file_csv ./data/tsla_combined_enriched_data.csv\n",
      "correlation_file_csv            ./data/tsla_correlation.csv\n",
      "--------------------------------------------------------------------------------\n"
     ]
    }
   ],
   "source": [
    "ticker = 'TSLA'\n",
    "\n",
    "start_date = \"2024-01-01\"\n",
    "end_date   = \"2025-03-12\"\n",
    "\n",
    "eod_price_file_csv              = f'./data/{ticker.lower()}_eod_prices.csv'\n",
    "finacial_news_file_csv          = f'./data/{ticker.lower()}_financial_news.csv'\n",
    "combined_data_file_csv          = f'./data/{ticker.lower()}_combined_data.csv'\n",
    "combined_enriched_data_file_csv = f'./data/{ticker.lower()}_combined_enriched_data.csv'\n",
    "correlation_file_csv            = f'./data/{ticker.lower()}_correlation.csv'\n",
    "\n",
    "print(f'ticker      {ticker}')\n",
    "print('-'*80)\n",
    "print(f'start_date  {start_date}')\n",
    "print(f'end_date    {end_date}')\n",
    "print('-'*80)\n",
    "print(f'eod_price_file_csv              {eod_price_file_csv}')\n",
    "print(f'finacial_news_file_csv          {finacial_news_file_csv}')\n",
    "print(f'combined_data_file_csv          {combined_data_file_csv}')\n",
    "print(f'combined_enriched_data_file_csv {combined_enriched_data_file_csv}')\n",
    "print(f'correlation_file_csv            {correlation_file_csv}')\n",
    "print('-'*80)      "
   ]
  },
  {
   "cell_type": "code",
   "execution_count": null,
   "id": "e3e1371f-84a1-40cb-b4ad-f404cdf08ce5",
   "metadata": {},
   "outputs": [],
   "source": []
  }
 ],
 "metadata": {
  "kernelspec": {
   "display_name": "Python 3 (ipykernel)",
   "language": "python",
   "name": "python3"
  },
  "language_info": {
   "codemirror_mode": {
    "name": "ipython",
    "version": 3
   },
   "file_extension": ".py",
   "mimetype": "text/x-python",
   "name": "python",
   "nbconvert_exporter": "python",
   "pygments_lexer": "ipython3",
   "version": "3.13.2"
  }
 },
 "nbformat": 4,
 "nbformat_minor": 5
}
