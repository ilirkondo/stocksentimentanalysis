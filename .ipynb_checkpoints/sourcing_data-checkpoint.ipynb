{
 "cells": [
  {
   "cell_type": "markdown",
   "id": "b1ebc9e5-fcea-4969-9107-d362ca44e9ac",
   "metadata": {},
   "source": [
    "# Data Sourcing\n",
    "* Sourced from [EODHD](https://eodhd.com/)"
   ]
  },
  {
   "cell_type": "code",
   "execution_count": 52,
   "id": "832e059e-d67a-43a2-86da-16bbd2b10306",
   "metadata": {},
   "outputs": [],
   "source": [
    "import re\n",
    "import requests\n",
    "import pandas as pd\n",
    "import config as cfg\n",
    "from eodhd import APIClient\n",
    "\n",
    "import datetime\n",
    "from IPython.display import display, clear_output"
   ]
  },
  {
   "cell_type": "code",
   "execution_count": 53,
   "id": "ade038f6-76f5-4cef-aba9-fc449baf9c9d",
   "metadata": {},
   "outputs": [
    {
     "name": "stdout",
     "output_type": "stream",
     "text": [
      "ticker                  TSLA\n",
      "--------------------------------------------------------------------------------\n",
      "start_date  2024-01-01\n",
      "end_date    2025-03-12\n",
      "--------------------------------------------------------------------------------\n",
      "eod_price_file_csv      ./data/tsla_eod_prices.csv\n",
      "finacial_news_file_json ./data/tsla_financial_news.json\n",
      "finacial_news_file_csv  ./data/tsla_financial_news.csv\n",
      "combined_data_file_csv  ./data/tsla_combined_data.csv\n",
      "--------------------------------------------------------------------------------\n"
     ]
    }
   ],
   "source": [
    "%run ./definitions.ipynb"
   ]
  },
  {
   "cell_type": "code",
   "execution_count": 4,
   "id": "5c16cd91-8451-4120-ac69-2e80ccaaede7",
   "metadata": {},
   "outputs": [
    {
     "name": "stdout",
     "output_type": "stream",
     "text": [
      "mkdir: data: File exists\n"
     ]
    }
   ],
   "source": [
    "!mkdir data"
   ]
  },
  {
   "cell_type": "markdown",
   "id": "56833998-f88e-4105-92e6-5e8b3330fc60",
   "metadata": {},
   "source": [
    "# API Call Functions"
   ]
  },
  {
   "cell_type": "code",
   "execution_count": 36,
   "id": "f70ea34a-8527-40d7-b74e-373a0e447868",
   "metadata": {},
   "outputs": [],
   "source": [
    "import os\n",
    "from dotenv import load_dotenv\n",
    "\n",
    "load_dotenv()\n",
    "EODHD_API_KEY = os.getenv(\"EODHD_API_KEY\")"
   ]
  },
  {
   "cell_type": "markdown",
   "id": "2ce082d3-7113-4b2c-9aef-ae7bfd890537",
   "metadata": {},
   "source": [
    "## fetch_historical_news()"
   ]
  },
  {
   "cell_type": "code",
   "execution_count": 6,
   "id": "5faa40f4-3bbc-4775-a25b-4b1ad4317364",
   "metadata": {},
   "outputs": [],
   "source": [
    "def fetch_historical_news(ticker, months):\n",
    "    \"\"\"Fetches historical news for the given ticker over the past specified months.\"\"\"\n",
    "    \n",
    "    BASE_URL = \"https://eodhd.com/api/news\"\n",
    "    \n",
    "    end_date = datetime.datetime.today()\n",
    "    start_date = end_date - datetime.timedelta(days=30 * months)\n",
    "    \n",
    "    all_news = []\n",
    "    offset = 0\n",
    "\n",
    "    i = 0\n",
    "    while True:\n",
    "        params = {\n",
    "            \"s\": ticker,  \n",
    "            \"limit\": LIMIT,\n",
    "            \"offset\": offset,\n",
    "            \"api_token\": EODHD_API_KEY,\n",
    "            \"from\": start_date.strftime(\"%Y-%m-%d\"),\n",
    "            \"to\": end_date.strftime(\"%Y-%m-%d\"),\n",
    "        }\n",
    "        \n",
    "        response = requests.get(BASE_URL, params=params)\n",
    "        \n",
    "        if response.status_code != 200:\n",
    "            print(\"Error fetching data:\", response.text)\n",
    "            break\n",
    "\n",
    "        data = response.json()\n",
    "\n",
    "        if not data:  # Stop when no more news is returned\n",
    "            break\n",
    "        \n",
    "        all_news.extend(data)\n",
    "        offset += LIMIT  # Increase offset for pagination\n",
    "        print(i, len(data))\n",
    "        i += 1\n",
    "\n",
    "    return all_news"
   ]
  },
  {
   "cell_type": "markdown",
   "id": "060ac5fb-746f-488b-adff-429d9b7497ee",
   "metadata": {},
   "source": [
    "## fetch_historical_prices()"
   ]
  },
  {
   "cell_type": "code",
   "execution_count": 48,
   "id": "30d6b17a-82eb-437c-9088-60f21ad0a7f8",
   "metadata": {},
   "outputs": [],
   "source": [
    "import pandas as pd\n",
    "import requests\n",
    "from datetime import datetime, timedelta\n",
    "\n",
    "def fetch_stock_data(symbol, start_date, end_date, api_key):\n",
    "    url = f\"https://eodhistoricaldata.com/api/eod/{symbol}\"\n",
    "    params = {\n",
    "        \"from\": start_date,\n",
    "        \"to\": end_date,\n",
    "        \"fmt\": \"json\",\n",
    "        \"api_token\": api_key\n",
    "    }\n",
    "    response = requests.get(url, params=params)\n",
    "    if response.status_code == 200:\n",
    "        data = response.json()\n",
    "        df = pd.DataFrame(data)\n",
    "        df['date'] = pd.to_datetime(df['date']).dt.date\n",
    "        return df\n",
    "    else:\n",
    "        print(\"Failed to fetch stock data:\", response.status_code)\n",
    "        return None\n",
    "\n",
    "api_key = EODHD_API_KEY \n",
    "symbol = ticker\n",
    "start_date = \"2024-01-01\"\n",
    "end_date = \"2025-03-12\"\n",
    "\n",
    "# Fetch stock data\n",
    "stock_df = fetch_stock_data(symbol, start_date, end_date, api_key)\n",
    "stock_df['date'] = pd.to_datetime(stock_df['date'])\n"
   ]
  },
  {
   "cell_type": "code",
   "execution_count": 51,
   "id": "f00cf87d-60bf-450d-935d-3d1684b9404a",
   "metadata": {},
   "outputs": [
    {
     "data": {
      "text/html": [
       "<div>\n",
       "<style scoped>\n",
       "    .dataframe tbody tr th:only-of-type {\n",
       "        vertical-align: middle;\n",
       "    }\n",
       "\n",
       "    .dataframe tbody tr th {\n",
       "        vertical-align: top;\n",
       "    }\n",
       "\n",
       "    .dataframe thead th {\n",
       "        text-align: right;\n",
       "    }\n",
       "</style>\n",
       "<table border=\"1\" class=\"dataframe\">\n",
       "  <thead>\n",
       "    <tr style=\"text-align: right;\">\n",
       "      <th></th>\n",
       "      <th>date</th>\n",
       "      <th>open</th>\n",
       "      <th>high</th>\n",
       "      <th>low</th>\n",
       "      <th>close</th>\n",
       "      <th>adjusted_close</th>\n",
       "      <th>volume</th>\n",
       "    </tr>\n",
       "  </thead>\n",
       "  <tbody>\n",
       "    <tr>\n",
       "      <th>0</th>\n",
       "      <td>2024-01-02</td>\n",
       "      <td>250.08000000</td>\n",
       "      <td>251.25000000</td>\n",
       "      <td>244.41000000</td>\n",
       "      <td>248.42000000</td>\n",
       "      <td>248.42000000</td>\n",
       "      <td>104654203</td>\n",
       "    </tr>\n",
       "    <tr>\n",
       "      <th>1</th>\n",
       "      <td>2024-01-03</td>\n",
       "      <td>244.98000000</td>\n",
       "      <td>245.68000000</td>\n",
       "      <td>236.32000000</td>\n",
       "      <td>238.45000000</td>\n",
       "      <td>238.45000000</td>\n",
       "      <td>121082602</td>\n",
       "    </tr>\n",
       "    <tr>\n",
       "      <th>2</th>\n",
       "      <td>2024-01-04</td>\n",
       "      <td>239.25000000</td>\n",
       "      <td>242.70000000</td>\n",
       "      <td>237.73000000</td>\n",
       "      <td>237.93000000</td>\n",
       "      <td>237.93000000</td>\n",
       "      <td>102629297</td>\n",
       "    </tr>\n",
       "    <tr>\n",
       "      <th>3</th>\n",
       "      <td>2024-01-05</td>\n",
       "      <td>236.86000000</td>\n",
       "      <td>240.11960000</td>\n",
       "      <td>234.90010000</td>\n",
       "      <td>237.49000000</td>\n",
       "      <td>237.49000000</td>\n",
       "      <td>92488945</td>\n",
       "    </tr>\n",
       "    <tr>\n",
       "      <th>4</th>\n",
       "      <td>2024-01-08</td>\n",
       "      <td>236.14000000</td>\n",
       "      <td>241.25000000</td>\n",
       "      <td>235.30000000</td>\n",
       "      <td>240.45000000</td>\n",
       "      <td>240.45000000</td>\n",
       "      <td>85166578</td>\n",
       "    </tr>\n",
       "    <tr>\n",
       "      <th>5</th>\n",
       "      <td>2024-01-09</td>\n",
       "      <td>238.11000000</td>\n",
       "      <td>238.96460000</td>\n",
       "      <td>232.04000000</td>\n",
       "      <td>234.96000000</td>\n",
       "      <td>234.96000000</td>\n",
       "      <td>96705664</td>\n",
       "    </tr>\n",
       "    <tr>\n",
       "      <th>6</th>\n",
       "      <td>2024-01-10</td>\n",
       "      <td>235.10000000</td>\n",
       "      <td>235.50000000</td>\n",
       "      <td>231.29000000</td>\n",
       "      <td>233.94000000</td>\n",
       "      <td>233.94000000</td>\n",
       "      <td>91628492</td>\n",
       "    </tr>\n",
       "    <tr>\n",
       "      <th>7</th>\n",
       "      <td>2024-01-11</td>\n",
       "      <td>230.57000000</td>\n",
       "      <td>230.93000000</td>\n",
       "      <td>225.37000000</td>\n",
       "      <td>227.22000000</td>\n",
       "      <td>227.22000000</td>\n",
       "      <td>105873602</td>\n",
       "    </tr>\n",
       "    <tr>\n",
       "      <th>8</th>\n",
       "      <td>2024-01-12</td>\n",
       "      <td>220.08000000</td>\n",
       "      <td>225.34000000</td>\n",
       "      <td>217.15010000</td>\n",
       "      <td>218.89000000</td>\n",
       "      <td>218.89000000</td>\n",
       "      <td>123043797</td>\n",
       "    </tr>\n",
       "    <tr>\n",
       "      <th>9</th>\n",
       "      <td>2024-01-16</td>\n",
       "      <td>215.10000000</td>\n",
       "      <td>223.49000000</td>\n",
       "      <td>212.18000000</td>\n",
       "      <td>219.91000000</td>\n",
       "      <td>219.91000000</td>\n",
       "      <td>115355000</td>\n",
       "    </tr>\n",
       "  </tbody>\n",
       "</table>\n",
       "</div>"
      ],
      "text/plain": [
       "        date         open         high          low        close  \\\n",
       "0 2024-01-02 250.08000000 251.25000000 244.41000000 248.42000000   \n",
       "1 2024-01-03 244.98000000 245.68000000 236.32000000 238.45000000   \n",
       "2 2024-01-04 239.25000000 242.70000000 237.73000000 237.93000000   \n",
       "3 2024-01-05 236.86000000 240.11960000 234.90010000 237.49000000   \n",
       "4 2024-01-08 236.14000000 241.25000000 235.30000000 240.45000000   \n",
       "5 2024-01-09 238.11000000 238.96460000 232.04000000 234.96000000   \n",
       "6 2024-01-10 235.10000000 235.50000000 231.29000000 233.94000000   \n",
       "7 2024-01-11 230.57000000 230.93000000 225.37000000 227.22000000   \n",
       "8 2024-01-12 220.08000000 225.34000000 217.15010000 218.89000000   \n",
       "9 2024-01-16 215.10000000 223.49000000 212.18000000 219.91000000   \n",
       "\n",
       "   adjusted_close     volume  \n",
       "0    248.42000000  104654203  \n",
       "1    238.45000000  121082602  \n",
       "2    237.93000000  102629297  \n",
       "3    237.49000000   92488945  \n",
       "4    240.45000000   85166578  \n",
       "5    234.96000000   96705664  \n",
       "6    233.94000000   91628492  \n",
       "7    227.22000000  105873602  \n",
       "8    218.89000000  123043797  \n",
       "9    219.91000000  115355000  "
      ]
     },
     "execution_count": 51,
     "metadata": {},
     "output_type": "execute_result"
    }
   ],
   "source": [
    "stock_df.head(10)"
   ]
  },
  {
   "cell_type": "code",
   "execution_count": 45,
   "id": "2903134e-9457-4c97-a18f-5b5339520ed1",
   "metadata": {},
   "outputs": [
    {
     "name": "stdout",
     "output_type": "stream",
     "text": [
      "         date         open         high          low        close  \\\n",
      "0  2024-03-01 200.52000000 204.52000000 198.50000000 202.64000000   \n",
      "1  2024-03-04 198.73000000 199.75000000 186.72000000 188.14000000   \n",
      "2  2024-03-05 183.05000000 184.59000000 177.57000000 180.74000000   \n",
      "3  2024-03-06 179.99000000 181.57600000 173.70000000 176.54000000   \n",
      "4  2024-03-07 174.35000000 180.04000000 173.70000000 178.65000000   \n",
      "\n",
      "   adjusted_close     volume  \n",
      "0    202.64000000   82243117  \n",
      "1    188.14000000  134334891  \n",
      "2    180.74000000  119660797  \n",
      "3    176.54000000  107920898  \n",
      "4    178.65000000  102129000  \n"
     ]
    },
    {
     "data": {
      "text/plain": [
       "date               object\n",
       "open              float64\n",
       "high              float64\n",
       "low               float64\n",
       "close             float64\n",
       "adjusted_close    float64\n",
       "volume              int64\n",
       "dtype: object"
      ]
     },
     "execution_count": 45,
     "metadata": {},
     "output_type": "execute_result"
    }
   ],
   "source": [
    "import requests\n",
    "import pandas as pd\n",
    "\n",
    "def get_eod_historical_prices(ticker, api_token, start_date=None, end_date=None):\n",
    "    \"\"\"\n",
    "    Retrieves EOD historical prices for a given ticker.\n",
    "\n",
    "    Parameters:\n",
    "    - ticker: The stock ticker symbol (e.g., AAPL.US).\n",
    "    - api_token: Your EODHD API token.\n",
    "    - start_date: Optional start date for historical data (YYYY-MM-DD).\n",
    "    - end_date: Optional end date for historical data (YYYY-MM-DD).\n",
    "\n",
    "    Returns:\n",
    "    - A pandas DataFrame containing the historical prices.\n",
    "    \"\"\"\n",
    "    base_url = \"https://eodhd.com/api/eod/\"\n",
    "    params = {\n",
    "        \"api_token\": api_token,\n",
    "        \"fmt\": \"json\"\n",
    "    }\n",
    "\n",
    "    if start_date and end_date:\n",
    "        params[\"from\"] = start_date\n",
    "        params[\"to\"] = end_date\n",
    "\n",
    "    url = f\"{base_url}{ticker}\"\n",
    "    response = requests.get(url, params=params)\n",
    "\n",
    "    if response.status_code == 200:\n",
    "        data = response.json()\n",
    "        df = pd.DataFrame(data)\n",
    "        return df\n",
    "    else:\n",
    "        print(f\"Failed to retrieve data. Status code: {response.status_code}\")\n",
    "        return None\n",
    "\n",
    "# Example usage\n",
    "ticker = \"TSLA\"\n",
    "api_token = EODHD_API_KEY  \n",
    "start_date = \"2024-03-01\"\n",
    "end_date = \"2025-03-13\"\n",
    "\n",
    "df = get_eod_historical_prices(ticker, api_token, start_date, end_date)\n"
   ]
  },
  {
   "cell_type": "code",
   "execution_count": 47,
   "id": "ccc0ebd2-3288-4b50-aadf-4c797aad8cd8",
   "metadata": {},
   "outputs": [
    {
     "name": "stdout",
     "output_type": "stream",
     "text": [
      "           date         open         high          low        close  \\\n",
      "249  2025-02-28 279.50000000 293.88000000 273.60000000 292.98000000   \n",
      "250  2025-03-03 300.34000000 303.94000000 277.30000000 284.65000000   \n",
      "251  2025-03-04 270.93000000 284.35000000 261.84010000 272.04000000   \n",
      "252  2025-03-05 272.92000000 279.55000000 267.71000000 279.10000000   \n",
      "253  2025-03-06 272.06000000 272.65000000 260.02000000 263.45000000   \n",
      "254  2025-03-07 259.32000000 266.24990000 250.73000000 262.67000000   \n",
      "255  2025-03-10 252.53500000 253.37000000 220.00000000 222.15000000   \n",
      "256  2025-03-11 225.30500000 237.06490000 217.02000000 230.58000000   \n",
      "257  2025-03-12 247.22000000 251.84000000 241.10000000 248.09000000   \n",
      "258  2025-03-13 248.12500000 248.29000000 232.60000000 240.68000000   \n",
      "\n",
      "     adjusted_close     volume  \n",
      "249    292.98000000  115697000  \n",
      "250    284.65000000  115551398  \n",
      "251    272.04000000  126706602  \n",
      "252    279.10000000   94042914  \n",
      "253    263.45000000   98451570  \n",
      "254    262.67000000  102369602  \n",
      "255    222.15000000  189076891  \n",
      "256    230.58000000  174896406  \n",
      "257    248.09000000  142215703  \n",
      "258    240.68000000  114334822  \n"
     ]
    }
   ],
   "source": [
    "\n",
    "# print(df.head())\n",
    "print(df.tail(10))"
   ]
  },
  {
   "cell_type": "code",
   "execution_count": 7,
   "id": "63847b12-4438-4e06-af43-d1f542e4cc70",
   "metadata": {},
   "outputs": [],
   "source": [
    "def fetch_historical_prices(ticker, months):\n",
    "    \"\"\"Fetches historical EOD prices for the given ticker over the past specified months.\"\"\"\n",
    "    \n",
    "    BASE_URL = f\"https://eodhd.com/api/eod/{TICKER}\"  # EOD API endpoint\n",
    "    \n",
    "    end_date = datetime.datetime.today()\n",
    "    days = 30 * months\n",
    "    start_date = end_date - datetime.timedelta(days=30 * months)\n",
    "    \n",
    "    all_prices = []\n",
    "    offset = 0\n",
    "\n",
    "    i = 0\n",
    "    for i in range(days):\n",
    "        params = {\n",
    "            \"limit\": LIMIT,\n",
    "            \"offset\": offset,\n",
    "            \"api_token\": EODHD_API_KEY,\n",
    "            \"from\": start_date.strftime(\"%Y-%m-%d\"),\n",
    "            \"to\": end_date.strftime(\"%Y-%m-%d\"),\n",
    "            \"order\": \"d\",  # Order by descending (newest first)\n",
    "        }\n",
    "        \n",
    "        response = requests.get(BASE_URL, params=params)\n",
    "\n",
    "        data = response.text\n",
    "        clear_output(wait=True)\n",
    "        display(f'{i} {len(data)}')\n",
    "        \n",
    "        all_prices += data\n",
    "        offset += LIMIT  # Increase offset for pagination\n",
    "\n",
    "    return all_prices\n"
   ]
  },
  {
   "cell_type": "markdown",
   "id": "4cc1e86b-f71d-472d-a7b1-34000be178ae",
   "metadata": {},
   "source": [
    "# Sourcing EOD Prices"
   ]
  },
  {
   "cell_type": "code",
   "execution_count": 9,
   "id": "dbdd88f0-fc76-45ae-869f-c44653b27842",
   "metadata": {},
   "outputs": [
    {
     "data": {
      "text/plain": [
       "'359 13577'"
      ]
     },
     "metadata": {},
     "output_type": "display_data"
    },
    {
     "name": "stdout",
     "output_type": "stream",
     "text": [
      "Total records fetched: 4887720\n"
     ]
    }
   ],
   "source": [
    "# Fetch past n months of stock prices for ticker\n",
    "price_data = fetch_historical_prices(ticker=TICKER, \n",
    "                                     months=months)\n",
    "\n",
    "# Print total number of records fetched\n",
    "print(f\"Total records fetched: {len(price_data)}\")"
   ]
  },
  {
   "cell_type": "code",
   "execution_count": 35,
   "id": "9780a699-79bd-477b-8054-1e06433806e9",
   "metadata": {},
   "outputs": [],
   "source": [
    "import pandas as pd\n",
    "\n",
    "all_prices = ''.join(price_data)\n",
    "from io import StringIO\n",
    "\n",
    "s = StringIO(all_prices)\n",
    "with open(eod_price_file_csv, 'w') as f:\n",
    "    for line in s:\n",
    "        f.write(line)\n",
    "\n",
    "df = pd.read_csv(eod_price_file_csv)\n",
    "df.columns = df.columns.str.lower()\n",
    "# Removing duplicate titles \n",
    "df = df[df['date'].str.contains('Date') == False]\n",
    "df.drop_duplicates(subset=['date'])\n",
    "df.head(10)\n",
    "\n",
    "df.to_csv(eod_price_file_csv)\n",
    "# df['date_datetime'] = pd.to_datetime(df['date'])\n",
    "# df.head(10)\n",
    "# df_sorted = df.sort_values(by='date_datetime')\n",
    "# df_sorted.head()\n",
    "# df.sort_values('date').drop_duplicates(subset=['item'], keep='last').drop_duplicates(subset=['date_datetime'], keep='last')\n",
    "# df.drop('date_datetime', axis=1, inplace=True)\n",
    "# df.head(10)"
   ]
  },
  {
   "cell_type": "markdown",
   "id": "fdd4719a-b323-4e40-8d93-884f624b5879",
   "metadata": {},
   "source": [
    "# fetch_historical_news()\n",
    "* Ticker: \"TSLA\"\n",
    "* Lookback period in months: 12"
   ]
  },
  {
   "cell_type": "code",
   "execution_count": 8,
   "id": "808f98f7-69b4-4d1d-b264-c1766687b77b",
   "metadata": {},
   "outputs": [],
   "source": [
    "TICKER = ticker\n",
    "LIMIT = 1000  # Maximum per request\n",
    "months = 12"
   ]
  },
  {
   "cell_type": "code",
   "execution_count": 6,
   "id": "07d48b48-ab84-434a-a184-041894ed9305",
   "metadata": {},
   "outputs": [
    {
     "name": "stdout",
     "output_type": "stream",
     "text": [
      "0 1000\n",
      "1 1000\n",
      "2 1000\n",
      "3 1000\n",
      "4 763\n",
      "Total articles fetched: 4763\n",
      "Amazon stock is trading cheaply on 1 valuation metric after broader stock market rout - 2025-03-11T12:32:50+00:00\n",
      "Tesla Stock Rises After Selloff. Trump Says He’s Buying One as He Defends Musk. - 2025-03-11T11:16:00+00:00\n",
      "Energy Transition Update - Green HVAC Market Surges with Eco-Friendly Building Demand - 2025-03-11T11:07:21+00:00\n",
      "Trump Says He’ll Buy a Tesla to Help Musk After Share Plunge - 2025-03-11T11:06:20+00:00\n",
      "Trending tickers: Tesla, Nvidia, Novo Nordisk, Volkswagen and Persimmon - 2025-03-11T10:57:47+00:00\n"
     ]
    }
   ],
   "source": [
    "# Fetch the past n months of news for ticker\n",
    "news_data = fetch_historical_news(ticker=TICKER, \n",
    "                                  months=months)\n",
    "\n",
    "# Print number of articles fetched\n",
    "print(f\"Total articles fetched: {len(news_data)}\")\n",
    "print('-'*80)\n",
    "# Print the first few articles\n",
    "for article in news_data[:5]:  \n",
    "    print(article[\"title\"], \"-\", article[\"date\"])\n"
   ]
  },
  {
   "cell_type": "code",
   "execution_count": 16,
   "id": "d7f09ebd-bb3c-47f4-8df4-c1e16e2388fb",
   "metadata": {},
   "outputs": [],
   "source": [
    "import json\n",
    "\n",
    "with open(finacial_news_file_json, 'w') as f:\n",
    "    json.dump(news_data, f, indent=4)"
   ]
  },
  {
   "cell_type": "code",
   "execution_count": 17,
   "id": "4777b55c-5001-49db-af4b-1d78e2bf7d3f",
   "metadata": {},
   "outputs": [
    {
     "data": {
      "text/plain": [
       "(4763, 7)"
      ]
     },
     "execution_count": 17,
     "metadata": {},
     "output_type": "execute_result"
    }
   ],
   "source": [
    "df = pd.read_json(finacial_news_file_json)\n",
    "df.shape"
   ]
  },
  {
   "cell_type": "code",
   "execution_count": 18,
   "id": "52c01824-1098-460c-9f62-bbc1a5a3ccf4",
   "metadata": {},
   "outputs": [
    {
     "data": {
      "text/html": [
       "<div>\n",
       "<style scoped>\n",
       "    .dataframe tbody tr th:only-of-type {\n",
       "        vertical-align: middle;\n",
       "    }\n",
       "\n",
       "    .dataframe tbody tr th {\n",
       "        vertical-align: top;\n",
       "    }\n",
       "\n",
       "    .dataframe thead th {\n",
       "        text-align: right;\n",
       "    }\n",
       "</style>\n",
       "<table border=\"1\" class=\"dataframe\">\n",
       "  <thead>\n",
       "    <tr style=\"text-align: right;\">\n",
       "      <th></th>\n",
       "      <th>date</th>\n",
       "      <th>title</th>\n",
       "      <th>content</th>\n",
       "      <th>link</th>\n",
       "      <th>symbols</th>\n",
       "      <th>tags</th>\n",
       "      <th>sentiment</th>\n",
       "    </tr>\n",
       "  </thead>\n",
       "  <tbody>\n",
       "    <tr>\n",
       "      <th>0</th>\n",
       "      <td>2025-03-11 12:32:50+00:00</td>\n",
       "      <td>Amazon stock is trading cheaply on 1 valuation...</td>\n",
       "      <td>The last time Amazon's stock (AMZN) looked thi...</td>\n",
       "      <td>https://finance.yahoo.com/news/amazon-stock-is...</td>\n",
       "      <td>[1TSLA.MI, TL0.F, TL0.XETRA, TL01.F, TSLA.US, ...</td>\n",
       "      <td>[]</td>\n",
       "      <td>{'polarity': 0.988, 'neg': 0.039, 'neu': 0.858...</td>\n",
       "    </tr>\n",
       "    <tr>\n",
       "      <th>1</th>\n",
       "      <td>2025-03-11 11:16:00+00:00</td>\n",
       "      <td>Tesla Stock Rises After Selloff. Trump Says He...</td>\n",
       "      <td>Investors are looking for some technical suppo...</td>\n",
       "      <td>https://finance.yahoo.com/m/2123972d-6f61-3413...</td>\n",
       "      <td>[1TSLA.MI, TL0.BE, TL0.F, TL0.XETRA, TL01.F, T...</td>\n",
       "      <td>[]</td>\n",
       "      <td>{'polarity': -0.052000000000000005, 'neg': 0.1...</td>\n",
       "    </tr>\n",
       "    <tr>\n",
       "      <th>2</th>\n",
       "      <td>2025-03-11 11:07:21+00:00</td>\n",
       "      <td>Energy Transition Update - Green HVAC Market S...</td>\n",
       "      <td>The global Green HVAC market is undergoing sig...</td>\n",
       "      <td>https://finance.yahoo.com/news/energy-transiti...</td>\n",
       "      <td>[1TSLA.MI, AMAT.MX, AMAT.US, AP2.F, AP2.XETRA,...</td>\n",
       "      <td>[]</td>\n",
       "      <td>{'polarity': 0.993, 'neg': 0.024, 'neu': 0.848...</td>\n",
       "    </tr>\n",
       "    <tr>\n",
       "      <th>3</th>\n",
       "      <td>2025-03-11 11:06:20+00:00</td>\n",
       "      <td>Trump Says He’ll Buy a Tesla to Help Musk Afte...</td>\n",
       "      <td>(Bloomberg) -- US President Donald Trump said ...</td>\n",
       "      <td>https://finance.yahoo.com/news/trump-says-ll-b...</td>\n",
       "      <td>[1TSLA.MI, TL0.BE, TL0.F, TL0.XETRA, TL01.F, T...</td>\n",
       "      <td>[]</td>\n",
       "      <td>{'polarity': 0.989, 'neg': 0.065, 'neu': 0.802...</td>\n",
       "    </tr>\n",
       "    <tr>\n",
       "      <th>4</th>\n",
       "      <td>2025-03-11 10:57:47+00:00</td>\n",
       "      <td>Trending tickers: Tesla, Nvidia, Novo Nordisk,...</td>\n",
       "      <td>Tesla (TSLA)\\n\\nStocks sold off globally on Mo...</td>\n",
       "      <td>https://uk.finance.yahoo.com/news/tesla-nvidia...</td>\n",
       "      <td>[0QYP.IL, 0QZI.LSE, 0R1O.IL, 0R2V.IL, 0RIH.IL,...</td>\n",
       "      <td>[]</td>\n",
       "      <td>{'polarity': 0.998, 'neg': 0.057, 'neu': 0.815...</td>\n",
       "    </tr>\n",
       "  </tbody>\n",
       "</table>\n",
       "</div>"
      ],
      "text/plain": [
       "                       date  \\\n",
       "0 2025-03-11 12:32:50+00:00   \n",
       "1 2025-03-11 11:16:00+00:00   \n",
       "2 2025-03-11 11:07:21+00:00   \n",
       "3 2025-03-11 11:06:20+00:00   \n",
       "4 2025-03-11 10:57:47+00:00   \n",
       "\n",
       "                                               title  \\\n",
       "0  Amazon stock is trading cheaply on 1 valuation...   \n",
       "1  Tesla Stock Rises After Selloff. Trump Says He...   \n",
       "2  Energy Transition Update - Green HVAC Market S...   \n",
       "3  Trump Says He’ll Buy a Tesla to Help Musk Afte...   \n",
       "4  Trending tickers: Tesla, Nvidia, Novo Nordisk,...   \n",
       "\n",
       "                                             content  \\\n",
       "0  The last time Amazon's stock (AMZN) looked thi...   \n",
       "1  Investors are looking for some technical suppo...   \n",
       "2  The global Green HVAC market is undergoing sig...   \n",
       "3  (Bloomberg) -- US President Donald Trump said ...   \n",
       "4  Tesla (TSLA)\\n\\nStocks sold off globally on Mo...   \n",
       "\n",
       "                                                link  \\\n",
       "0  https://finance.yahoo.com/news/amazon-stock-is...   \n",
       "1  https://finance.yahoo.com/m/2123972d-6f61-3413...   \n",
       "2  https://finance.yahoo.com/news/energy-transiti...   \n",
       "3  https://finance.yahoo.com/news/trump-says-ll-b...   \n",
       "4  https://uk.finance.yahoo.com/news/tesla-nvidia...   \n",
       "\n",
       "                                             symbols tags  \\\n",
       "0  [1TSLA.MI, TL0.F, TL0.XETRA, TL01.F, TSLA.US, ...   []   \n",
       "1  [1TSLA.MI, TL0.BE, TL0.F, TL0.XETRA, TL01.F, T...   []   \n",
       "2  [1TSLA.MI, AMAT.MX, AMAT.US, AP2.F, AP2.XETRA,...   []   \n",
       "3  [1TSLA.MI, TL0.BE, TL0.F, TL0.XETRA, TL01.F, T...   []   \n",
       "4  [0QYP.IL, 0QZI.LSE, 0R1O.IL, 0R2V.IL, 0RIH.IL,...   []   \n",
       "\n",
       "                                           sentiment  \n",
       "0  {'polarity': 0.988, 'neg': 0.039, 'neu': 0.858...  \n",
       "1  {'polarity': -0.052000000000000005, 'neg': 0.1...  \n",
       "2  {'polarity': 0.993, 'neg': 0.024, 'neu': 0.848...  \n",
       "3  {'polarity': 0.989, 'neg': 0.065, 'neu': 0.802...  \n",
       "4  {'polarity': 0.998, 'neg': 0.057, 'neu': 0.815...  "
      ]
     },
     "execution_count": 18,
     "metadata": {},
     "output_type": "execute_result"
    }
   ],
   "source": [
    "df.head()"
   ]
  },
  {
   "cell_type": "code",
   "execution_count": 19,
   "id": "67f2958a-a6e7-483e-8159-713f517003bd",
   "metadata": {},
   "outputs": [
    {
     "data": {
      "text/plain": [
       "'359 13407'"
      ]
     },
     "metadata": {},
     "output_type": "display_data"
    },
    {
     "name": "stdout",
     "output_type": "stream",
     "text": [
      "Total records fetched: 4826520\n"
     ]
    }
   ],
   "source": [
    "\n"
   ]
  },
  {
   "cell_type": "code",
   "execution_count": 20,
   "id": "7733454b-a801-4386-aa96-a5db6f525cfd",
   "metadata": {},
   "outputs": [
    {
     "name": "stdout",
     "output_type": "stream",
     "text": [
      "('Date,Open,High,Low,Close,Adjusted_close,Volume\\n'\n",
      " '2025-03-10,252.535,253.37,220,222.15,222.15,189076948')\n",
      "\n",
      "('19,172.36,172.82,167.42,171.32,171.32,77271430\\n'\n",
      " '2024-03-18,170.02,174.72,165.9,173.8,173.8,108214398\\n')\n"
     ]
    }
   ],
   "source": []
  },
  {
   "cell_type": "code",
   "execution_count": 21,
   "id": "a017d331-7850-4c74-ae41-b169ec136468",
   "metadata": {},
   "outputs": [],
   "source": []
  },
  {
   "cell_type": "code",
   "execution_count": 22,
   "id": "13b17106-c7c6-41a9-b2ac-90636ff011a9",
   "metadata": {},
   "outputs": [],
   "source": []
  },
  {
   "cell_type": "code",
   "execution_count": 24,
   "id": "3ddf2e87-2352-4c94-876a-6e6dc8f5f1ea",
   "metadata": {},
   "outputs": [
    {
     "name": "stdout",
     "output_type": "stream",
     "text": [
      "total 47128\n",
      "-rw-r--r--@ 1 ilirkondo  staff  18605665 Mar 11 09:45 tsla_financial_news.json\n",
      "-rw-r--r--@ 1 ilirkondo  staff   4826520 Mar 11 10:05 tsla_eod_prices.csv\n"
     ]
    }
   ],
   "source": [
    "!ls -ltr ./data"
   ]
  }
 ],
 "metadata": {
  "kernelspec": {
   "display_name": "Python 3 (ipykernel)",
   "language": "python",
   "name": "python3"
  },
  "language_info": {
   "codemirror_mode": {
    "name": "ipython",
    "version": 3
   },
   "file_extension": ".py",
   "mimetype": "text/x-python",
   "name": "python",
   "nbconvert_exporter": "python",
   "pygments_lexer": "ipython3",
   "version": "3.13.2"
  }
 },
 "nbformat": 4,
 "nbformat_minor": 5
}
